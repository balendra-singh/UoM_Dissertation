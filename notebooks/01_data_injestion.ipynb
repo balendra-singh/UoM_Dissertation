{
 "cells": [
  {
   "attachments": {},
   "cell_type": "markdown",
   "metadata": {},
   "source": [
    "### Use github data set to pretrain a classifier. SO that we can label the datasets"
   ]
  },
  {
   "cell_type": "code",
   "execution_count": 46,
   "metadata": {},
   "outputs": [],
   "source": [
    "import numpy as np\n",
    "import os\n",
    "import pandas as pd\n",
    "\n",
    "# Only to be used for solid_git dataset for 'Contacts' label\n",
    "predefined_labels = ['Accessibility','Aggregation','Authentication','Consistency','Contacts','Chat']"
   ]
  },
  {
   "cell_type": "markdown",
   "metadata": {},
   "source": [
    "### Source - 1"
   ]
  },
  {
   "cell_type": "code",
   "execution_count": 47,
   "metadata": {},
   "outputs": [
    {
     "data": {
      "text/html": [
       "<div>\n",
       "<style scoped>\n",
       "    .dataframe tbody tr th:only-of-type {\n",
       "        vertical-align: middle;\n",
       "    }\n",
       "\n",
       "    .dataframe tbody tr th {\n",
       "        vertical-align: top;\n",
       "    }\n",
       "\n",
       "    .dataframe thead th {\n",
       "        text-align: right;\n",
       "    }\n",
       "</style>\n",
       "<table border=\"1\" class=\"dataframe\">\n",
       "  <thead>\n",
       "    <tr style=\"text-align: right;\">\n",
       "      <th></th>\n",
       "      <th>text</th>\n",
       "    </tr>\n",
       "  </thead>\n",
       "  <tbody>\n",
       "    <tr>\n",
       "      <th>0</th>\n",
       "      <td>﻿As a Data user, I want to have the 12-19-2017...</td>\n",
       "    </tr>\n",
       "    <tr>\n",
       "      <th>1</th>\n",
       "      <td>As a UI designer, I want to redesign the Resou...</td>\n",
       "    </tr>\n",
       "    <tr>\n",
       "      <th>2</th>\n",
       "      <td>As a UI designer, I want to report to the Agen...</td>\n",
       "    </tr>\n",
       "    <tr>\n",
       "      <th>3</th>\n",
       "      <td>As a UI designer, I want to move on to round 2...</td>\n",
       "    </tr>\n",
       "    <tr>\n",
       "      <th>4</th>\n",
       "      <td>As a UI designer, I want to move on to round 2...</td>\n",
       "    </tr>\n",
       "    <tr>\n",
       "      <th>...</th>\n",
       "      <td>...</td>\n",
       "    </tr>\n",
       "    <tr>\n",
       "      <th>2130</th>\n",
       "      <td>As a UMD employee, I want to be able to access...</td>\n",
       "    </tr>\n",
       "    <tr>\n",
       "      <th>2131</th>\n",
       "      <td>As a UMD employee, I want the system to start ...</td>\n",
       "    </tr>\n",
       "    <tr>\n",
       "      <th>2132</th>\n",
       "      <td>As a UMD employee, I want a platform that can ...</td>\n",
       "    </tr>\n",
       "    <tr>\n",
       "      <th>2133</th>\n",
       "      <td>As a UMD employee, I want the software to be a...</td>\n",
       "    </tr>\n",
       "    <tr>\n",
       "      <th>2134</th>\n",
       "      <td>As a UMD employee, I want to be able to take s...</td>\n",
       "    </tr>\n",
       "  </tbody>\n",
       "</table>\n",
       "<p>2135 rows × 1 columns</p>\n",
       "</div>"
      ],
      "text/plain": [
       "                                                   text\n",
       "0     ﻿As a Data user, I want to have the 12-19-2017...\n",
       "1     As a UI designer, I want to redesign the Resou...\n",
       "2     As a UI designer, I want to report to the Agen...\n",
       "3     As a UI designer, I want to move on to round 2...\n",
       "4     As a UI designer, I want to move on to round 2...\n",
       "...                                                 ...\n",
       "2130  As a UMD employee, I want to be able to access...\n",
       "2131  As a UMD employee, I want the system to start ...\n",
       "2132  As a UMD employee, I want a platform that can ...\n",
       "2133  As a UMD employee, I want the software to be a...\n",
       "2134  As a UMD employee, I want to be able to take s...\n",
       "\n",
       "[2135 rows x 1 columns]"
      ]
     },
     "execution_count": 47,
     "metadata": {},
     "output_type": "execute_result"
    }
   ],
   "source": [
    "# Directory path containing the text files\n",
    "directory_path = \"../dataset/0\"\n",
    "\n",
    "# Initialize an empty list to store the extracted data\n",
    "data = []\n",
    "\n",
    "# Iterate over each file in the directory\n",
    "for filename in os.listdir(directory_path):\n",
    "    if filename.endswith(\".txt\"):\n",
    "        file_path = os.path.join(directory_path, filename)\n",
    "        \n",
    "        # Read the contents of the file\n",
    "        with open(file_path, \"r\", encoding='utf-8', errors='ignore') as file:\n",
    "            lines = file.readlines()\n",
    "            \n",
    "        # Remove leading/trailing whitespaces and append each line as a separate user story\n",
    "        for line in lines:\n",
    "            title = line.strip().lstrip(\"<ï»¿>\").rstrip(\"<ï»¿>\")\n",
    "            \n",
    "            # Append the data to the list\n",
    "            #data.append({\"user_story\": title , \"file_name\": filename})\n",
    "            data.append({\"text\": title})\n",
    "\n",
    "# Create a dataframe from the extracted data\n",
    "user_story_df= pd.DataFrame(data)\n",
    "\n",
    "# Print the resulting dataframe\n",
    "user_story_df"
   ]
  },
  {
   "cell_type": "code",
   "execution_count": 48,
   "metadata": {},
   "outputs": [
    {
     "data": {
      "text/html": [
       "<div>\n",
       "<style scoped>\n",
       "    .dataframe tbody tr th:only-of-type {\n",
       "        vertical-align: middle;\n",
       "    }\n",
       "\n",
       "    .dataframe tbody tr th {\n",
       "        vertical-align: top;\n",
       "    }\n",
       "\n",
       "    .dataframe thead th {\n",
       "        text-align: right;\n",
       "    }\n",
       "</style>\n",
       "<table border=\"1\" class=\"dataframe\">\n",
       "  <thead>\n",
       "    <tr style=\"text-align: right;\">\n",
       "      <th></th>\n",
       "      <th>text</th>\n",
       "    </tr>\n",
       "  </thead>\n",
       "  <tbody>\n",
       "    <tr>\n",
       "      <th>0</th>\n",
       "      <td>﻿As a Data user, I want to have the 12-19-2017...</td>\n",
       "    </tr>\n",
       "    <tr>\n",
       "      <th>1</th>\n",
       "      <td>As a UI designer, I want to redesign the Resou...</td>\n",
       "    </tr>\n",
       "    <tr>\n",
       "      <th>2</th>\n",
       "      <td>As a UI designer, I want to report to the Agen...</td>\n",
       "    </tr>\n",
       "    <tr>\n",
       "      <th>3</th>\n",
       "      <td>As a UI designer, I want to move on to round 2...</td>\n",
       "    </tr>\n",
       "    <tr>\n",
       "      <th>4</th>\n",
       "      <td>As a UI designer, I want to move on to round 2...</td>\n",
       "    </tr>\n",
       "    <tr>\n",
       "      <th>...</th>\n",
       "      <td>...</td>\n",
       "    </tr>\n",
       "    <tr>\n",
       "      <th>2130</th>\n",
       "      <td>As a UMD employee, I want to be able to access...</td>\n",
       "    </tr>\n",
       "    <tr>\n",
       "      <th>2131</th>\n",
       "      <td>As a UMD employee, I want the system to start ...</td>\n",
       "    </tr>\n",
       "    <tr>\n",
       "      <th>2132</th>\n",
       "      <td>As a UMD employee, I want a platform that can ...</td>\n",
       "    </tr>\n",
       "    <tr>\n",
       "      <th>2133</th>\n",
       "      <td>As a UMD employee, I want the software to be a...</td>\n",
       "    </tr>\n",
       "    <tr>\n",
       "      <th>2134</th>\n",
       "      <td>As a UMD employee, I want to be able to take s...</td>\n",
       "    </tr>\n",
       "  </tbody>\n",
       "</table>\n",
       "<p>2073 rows × 1 columns</p>\n",
       "</div>"
      ],
      "text/plain": [
       "                                                   text\n",
       "0     ﻿As a Data user, I want to have the 12-19-2017...\n",
       "1     As a UI designer, I want to redesign the Resou...\n",
       "2     As a UI designer, I want to report to the Agen...\n",
       "3     As a UI designer, I want to move on to round 2...\n",
       "4     As a UI designer, I want to move on to round 2...\n",
       "...                                                 ...\n",
       "2130  As a UMD employee, I want to be able to access...\n",
       "2131  As a UMD employee, I want the system to start ...\n",
       "2132  As a UMD employee, I want a platform that can ...\n",
       "2133  As a UMD employee, I want the software to be a...\n",
       "2134  As a UMD employee, I want to be able to take s...\n",
       "\n",
       "[2073 rows x 1 columns]"
      ]
     },
     "execution_count": 48,
     "metadata": {},
     "output_type": "execute_result"
    }
   ],
   "source": [
    "user_story_df.drop_duplicates(inplace=True)\n",
    "user_story_df"
   ]
  },
  {
   "cell_type": "code",
   "execution_count": 49,
   "metadata": {},
   "outputs": [
    {
     "data": {
      "text/plain": [
       "text    0\n",
       "dtype: int64"
      ]
     },
     "execution_count": 49,
     "metadata": {},
     "output_type": "execute_result"
    }
   ],
   "source": [
    "user_story_df.isna().sum()"
   ]
  },
  {
   "cell_type": "code",
   "execution_count": 50,
   "metadata": {},
   "outputs": [],
   "source": [
    "user_story_df['label'] = 'Unknown'\n",
    "user_story_df.to_csv('../artifacts/data/source_1.csv', index=False)"
   ]
  },
  {
   "cell_type": "code",
   "execution_count": 51,
   "metadata": {},
   "outputs": [],
   "source": [
    "#user_story_df.drop('file_name', axis=1, inplace=True)"
   ]
  },
  {
   "cell_type": "code",
   "execution_count": 52,
   "metadata": {},
   "outputs": [],
   "source": [
    "user_story_df.to_csv('../artifacts/data/raw.csv', index=False)"
   ]
  },
  {
   "cell_type": "markdown",
   "metadata": {},
   "source": [
    "### Source-2"
   ]
  },
  {
   "attachments": {},
   "cell_type": "markdown",
   "metadata": {},
   "source": [
    "### Github Dataset"
   ]
  },
  {
   "cell_type": "code",
   "execution_count": 53,
   "metadata": {},
   "outputs": [
    {
     "name": "stdout",
     "output_type": "stream",
     "text": [
      "GitHub labelled dataset found!\n"
     ]
    }
   ],
   "source": [
    "import pandas as pd\n",
    "import os\n",
    "from github import Github\n",
    "\n",
    "def extract_issues_from_repo(repo_url):\n",
    "    # Create a GitHub instance without an access token\n",
    "    g = Github()\n",
    "\n",
    "    # Get the repository from the URL\n",
    "    repo = g.get_repo(repo_url)\n",
    "\n",
    "    issues = []\n",
    "    for issue in repo.get_issues():\n",
    "        issues.append({\n",
    "            'text': issue.title,\n",
    "            'Body': issue.body,\n",
    "            'State': issue.state,\n",
    "            'Created At': issue.created_at,\n",
    "            'Updated At': issue.updated_at,\n",
    "            'Closed At': issue.closed_at,\n",
    "            'Labels': [label.name for label in issue.labels],\n",
    "            'Comments': issue.comments\n",
    "        })\n",
    "\n",
    "    # Create a Pandas DataFrame from the extracted issues\n",
    "    df = pd.DataFrame(issues)\n",
    "    return df\n",
    "\n",
    "file_path = \"../dataset/1/github_user_story.csv\"\n",
    "\n",
    "# check for GitHub user stories\n",
    "if not os.path.exists(file_path):\n",
    "\n",
    "    repo_url = 'solid/user-stories'\n",
    "    git_dataset = extract_issues_from_repo(repo_url)\n",
    "\n",
    "    git_labelled_dataset = git_dataset[git_dataset['Labels']\n",
    "                                                .apply(lambda x: any(elem in x for elem in predefined_labels))]\n",
    "\n",
    "    git_labelled_dataset['label'] = git_labelled_dataset['Labels'].apply(lambda x: next((elem for elem in x if elem in predefined_labels), None))\n",
    "\n",
    "    git_labelled_dataset = git_labelled_dataset[['text','label']]\n",
    "\n",
    "    git_labelled_dataset.drop_duplicates(inplace=True)\n",
    "\n",
    "    git_labelled_dataset.to_csv(file_path, index=False)\n",
    "\n",
    "else:\n",
    "    print('GitHub labelled dataset found!')"
   ]
  },
  {
   "cell_type": "code",
   "execution_count": 54,
   "metadata": {},
   "outputs": [
    {
     "data": {
      "text/html": [
       "<div>\n",
       "<style scoped>\n",
       "    .dataframe tbody tr th:only-of-type {\n",
       "        vertical-align: middle;\n",
       "    }\n",
       "\n",
       "    .dataframe tbody tr th {\n",
       "        vertical-align: top;\n",
       "    }\n",
       "\n",
       "    .dataframe thead th {\n",
       "        text-align: right;\n",
       "    }\n",
       "</style>\n",
       "<table border=\"1\" class=\"dataframe\">\n",
       "  <thead>\n",
       "    <tr style=\"text-align: right;\">\n",
       "      <th></th>\n",
       "      <th>text</th>\n",
       "      <th>label</th>\n",
       "    </tr>\n",
       "  </thead>\n",
       "  <tbody>\n",
       "    <tr>\n",
       "      <th>0</th>\n",
       "      <td>As an app developer aiming for low-resource en...</td>\n",
       "      <td>Chat</td>\n",
       "    </tr>\n",
       "    <tr>\n",
       "      <th>1</th>\n",
       "      <td>As a community member, I want to create a Pod/...</td>\n",
       "      <td>Chat</td>\n",
       "    </tr>\n",
       "    <tr>\n",
       "      <th>2</th>\n",
       "      <td>As a governmental agency providing Pods for ci...</td>\n",
       "      <td>Authentication</td>\n",
       "    </tr>\n",
       "    <tr>\n",
       "      <th>3</th>\n",
       "      <td>As a existing Solid user, I would like to use ...</td>\n",
       "      <td>Authentication</td>\n",
       "    </tr>\n",
       "    <tr>\n",
       "      <th>4</th>\n",
       "      <td>As a Solid Identity Provider, I would like it ...</td>\n",
       "      <td>Authentication</td>\n",
       "    </tr>\n",
       "    <tr>\n",
       "      <th>...</th>\n",
       "      <td>...</td>\n",
       "      <td>...</td>\n",
       "    </tr>\n",
       "    <tr>\n",
       "      <th>74</th>\n",
       "      <td>As a Developer, I want to ensure that our webs...</td>\n",
       "      <td>Accessibility</td>\n",
       "    </tr>\n",
       "    <tr>\n",
       "      <th>75</th>\n",
       "      <td>As a Quality Assurance Engineer, I want to tes...</td>\n",
       "      <td>Accessibility</td>\n",
       "    </tr>\n",
       "    <tr>\n",
       "      <th>76</th>\n",
       "      <td>As a Project Manager, I want to ensure that ac...</td>\n",
       "      <td>Accessibility</td>\n",
       "    </tr>\n",
       "    <tr>\n",
       "      <th>77</th>\n",
       "      <td>As a Developer, I want to implement keyboard n...</td>\n",
       "      <td>Accessibility</td>\n",
       "    </tr>\n",
       "    <tr>\n",
       "      <th>78</th>\n",
       "      <td>As a Quality Assurance Engineer, I want to ver...</td>\n",
       "      <td>Accessibility</td>\n",
       "    </tr>\n",
       "  </tbody>\n",
       "</table>\n",
       "<p>79 rows × 2 columns</p>\n",
       "</div>"
      ],
      "text/plain": [
       "                                                 text           label\n",
       "0   As an app developer aiming for low-resource en...            Chat\n",
       "1   As a community member, I want to create a Pod/...            Chat\n",
       "2   As a governmental agency providing Pods for ci...  Authentication\n",
       "3   As a existing Solid user, I would like to use ...  Authentication\n",
       "4   As a Solid Identity Provider, I would like it ...  Authentication\n",
       "..                                                ...             ...\n",
       "74  As a Developer, I want to ensure that our webs...   Accessibility\n",
       "75  As a Quality Assurance Engineer, I want to tes...   Accessibility\n",
       "76  As a Project Manager, I want to ensure that ac...   Accessibility\n",
       "77  As a Developer, I want to implement keyboard n...   Accessibility\n",
       "78  As a Quality Assurance Engineer, I want to ver...   Accessibility\n",
       "\n",
       "[79 rows x 2 columns]"
      ]
     },
     "execution_count": 54,
     "metadata": {},
     "output_type": "execute_result"
    }
   ],
   "source": [
    "solid_git_df = pd.read_csv('../dataset/1/github_user_story.csv')\n",
    "solid_git_df"
   ]
  },
  {
   "cell_type": "code",
   "execution_count": 55,
   "metadata": {},
   "outputs": [
    {
     "data": {
      "text/plain": [
       "label\n",
       "Chat              18\n",
       "Contacts          15\n",
       "Authentication    13\n",
       "Aggregation       11\n",
       "Accessibility     11\n",
       "Consistency       11\n",
       "Name: count, dtype: int64"
      ]
     },
     "execution_count": 55,
     "metadata": {},
     "output_type": "execute_result"
    }
   ],
   "source": [
    "solid_git_df['label'].value_counts()"
   ]
  },
  {
   "cell_type": "code",
   "execution_count": 56,
   "metadata": {},
   "outputs": [],
   "source": [
    "solid_git_df.to_csv('../artifacts/data/source_2.csv', index=False)"
   ]
  },
  {
   "cell_type": "markdown",
   "metadata": {},
   "source": [
    "### Merging both the data sources"
   ]
  },
  {
   "cell_type": "code",
   "execution_count": 57,
   "metadata": {},
   "outputs": [
    {
     "name": "stdout",
     "output_type": "stream",
     "text": [
      "2073\n",
      "79\n",
      "2152\n"
     ]
    }
   ],
   "source": [
    "print(len(user_story_df))\n",
    "print(len(solid_git_df))\n",
    "\n",
    "merged_dataset = pd.concat([solid_git_df,user_story_df], ignore_index=True)\n",
    "\n",
    "print(len(merged_dataset))"
   ]
  },
  {
   "cell_type": "code",
   "execution_count": 58,
   "metadata": {},
   "outputs": [
    {
     "data": {
      "text/html": [
       "<div>\n",
       "<style scoped>\n",
       "    .dataframe tbody tr th:only-of-type {\n",
       "        vertical-align: middle;\n",
       "    }\n",
       "\n",
       "    .dataframe tbody tr th {\n",
       "        vertical-align: top;\n",
       "    }\n",
       "\n",
       "    .dataframe thead th {\n",
       "        text-align: right;\n",
       "    }\n",
       "</style>\n",
       "<table border=\"1\" class=\"dataframe\">\n",
       "  <thead>\n",
       "    <tr style=\"text-align: right;\">\n",
       "      <th></th>\n",
       "      <th>text</th>\n",
       "      <th>label</th>\n",
       "    </tr>\n",
       "  </thead>\n",
       "  <tbody>\n",
       "    <tr>\n",
       "      <th>0</th>\n",
       "      <td>As an app developer aiming for low-resource en...</td>\n",
       "      <td>Chat</td>\n",
       "    </tr>\n",
       "    <tr>\n",
       "      <th>1</th>\n",
       "      <td>As a community member, I want to create a Pod/...</td>\n",
       "      <td>Chat</td>\n",
       "    </tr>\n",
       "    <tr>\n",
       "      <th>2</th>\n",
       "      <td>As a governmental agency providing Pods for ci...</td>\n",
       "      <td>Authentication</td>\n",
       "    </tr>\n",
       "    <tr>\n",
       "      <th>3</th>\n",
       "      <td>As a existing Solid user, I would like to use ...</td>\n",
       "      <td>Authentication</td>\n",
       "    </tr>\n",
       "    <tr>\n",
       "      <th>4</th>\n",
       "      <td>As a Solid Identity Provider, I would like it ...</td>\n",
       "      <td>Authentication</td>\n",
       "    </tr>\n",
       "    <tr>\n",
       "      <th>...</th>\n",
       "      <td>...</td>\n",
       "      <td>...</td>\n",
       "    </tr>\n",
       "    <tr>\n",
       "      <th>2147</th>\n",
       "      <td>As a UMD employee, I want to be able to access...</td>\n",
       "      <td>Unknown</td>\n",
       "    </tr>\n",
       "    <tr>\n",
       "      <th>2148</th>\n",
       "      <td>As a UMD employee, I want the system to start ...</td>\n",
       "      <td>Unknown</td>\n",
       "    </tr>\n",
       "    <tr>\n",
       "      <th>2149</th>\n",
       "      <td>As a UMD employee, I want a platform that can ...</td>\n",
       "      <td>Unknown</td>\n",
       "    </tr>\n",
       "    <tr>\n",
       "      <th>2150</th>\n",
       "      <td>As a UMD employee, I want the software to be a...</td>\n",
       "      <td>Unknown</td>\n",
       "    </tr>\n",
       "    <tr>\n",
       "      <th>2151</th>\n",
       "      <td>As a UMD employee, I want to be able to take s...</td>\n",
       "      <td>Unknown</td>\n",
       "    </tr>\n",
       "  </tbody>\n",
       "</table>\n",
       "<p>2152 rows × 2 columns</p>\n",
       "</div>"
      ],
      "text/plain": [
       "                                                   text           label\n",
       "0     As an app developer aiming for low-resource en...            Chat\n",
       "1     As a community member, I want to create a Pod/...            Chat\n",
       "2     As a governmental agency providing Pods for ci...  Authentication\n",
       "3     As a existing Solid user, I would like to use ...  Authentication\n",
       "4     As a Solid Identity Provider, I would like it ...  Authentication\n",
       "...                                                 ...             ...\n",
       "2147  As a UMD employee, I want to be able to access...         Unknown\n",
       "2148  As a UMD employee, I want the system to start ...         Unknown\n",
       "2149  As a UMD employee, I want a platform that can ...         Unknown\n",
       "2150  As a UMD employee, I want the software to be a...         Unknown\n",
       "2151  As a UMD employee, I want to be able to take s...         Unknown\n",
       "\n",
       "[2152 rows x 2 columns]"
      ]
     },
     "execution_count": 58,
     "metadata": {},
     "output_type": "execute_result"
    }
   ],
   "source": [
    "merged_dataset.drop_duplicates(inplace=True)\n",
    "merged_dataset"
   ]
  },
  {
   "cell_type": "code",
   "execution_count": 59,
   "metadata": {},
   "outputs": [],
   "source": [
    "merged_dataset.to_csv('../artifacts/data/raw.csv', index=False)"
   ]
  },
  {
   "cell_type": "code",
   "execution_count": null,
   "metadata": {},
   "outputs": [],
   "source": []
  },
  {
   "cell_type": "code",
   "execution_count": null,
   "metadata": {},
   "outputs": [],
   "source": []
  },
  {
   "cell_type": "code",
   "execution_count": null,
   "metadata": {},
   "outputs": [],
   "source": []
  },
  {
   "cell_type": "code",
   "execution_count": null,
   "metadata": {},
   "outputs": [],
   "source": []
  },
  {
   "cell_type": "code",
   "execution_count": null,
   "metadata": {},
   "outputs": [],
   "source": []
  },
  {
   "cell_type": "code",
   "execution_count": null,
   "metadata": {},
   "outputs": [],
   "source": []
  },
  {
   "attachments": {},
   "cell_type": "markdown",
   "metadata": {},
   "source": [
    "### __TEXT CLASSIFICATION__"
   ]
  },
  {
   "attachments": {},
   "cell_type": "markdown",
   "metadata": {},
   "source": [
    "#### https://github.com/RDA-DMP-Common/user-stories\n",
    "\n",
    "### IMP -> https://medium.com/analytics-vidhya/step-by-step-text-classification-using-different-models-and-compare-them-8a34204c34f8"
   ]
  },
  {
   "attachments": {},
   "cell_type": "markdown",
   "metadata": {},
   "source": [
    "#### https://link.springer.com/article/10.1007/s11704-022-8262-9"
   ]
  },
  {
   "attachments": {},
   "cell_type": "markdown",
   "metadata": {},
   "source": [
    "https://www.sciencedirect.com/science/article/pii/S0950584922000246\n",
    "https://github.com/awkale/user-story-best-practice"
   ]
  },
  {
   "cell_type": "code",
   "execution_count": 60,
   "metadata": {},
   "outputs": [],
   "source": [
    "# from transformers import BertForSequenceClassification\n",
    "# from transformers import BertTokenizerFast\n",
    "\n",
    "# # Initialize the tokenizer\n",
    "# tokenizer = BertTokenizerFast.from_pretrained('bert-base-uncased')\n",
    "# model = BertForSequenceClassification.from_pretrained('../artifacts/data_verification_model.h5')"
   ]
  },
  {
   "cell_type": "code",
   "execution_count": 61,
   "metadata": {},
   "outputs": [],
   "source": [
    "# import torch\n",
    "\n",
    "# # Create an empty list to store the predicted labels\n",
    "# predicted_labels = []\n",
    "\n",
    "# # Iterate over the rows of the dataframe\n",
    "# for index, row in git_dataset.iterrows():\n",
    "#     text = row['Title']  # Assuming the column name is 'text'\n",
    "\n",
    "#     # Prepare the input data\n",
    "#     inputs = tokenizer.encode_plus(text, padding=True, truncation=True, return_tensors=\"pt\")\n",
    "\n",
    "#     # Forward pass through the model\n",
    "#     with torch.no_grad():\n",
    "#         outputs = model(**inputs)\n",
    "\n",
    "#     # Get the predicted label\n",
    "#     predicted_label = torch.argmax(outputs.logits, dim=1).item()\n",
    "#     predicted_labels.append(predicted_label)\n",
    "\n",
    "# # Add the predicted labels to the dataframe\n",
    "# git_dataset['Is_Valid'] = predicted_labels\n",
    "\n",
    "# git_dataset[git_dataset['Is_Valid'] == 0]"
   ]
  },
  {
   "cell_type": "code",
   "execution_count": 62,
   "metadata": {},
   "outputs": [],
   "source": [
    "# git_dataset.iloc[28].Title"
   ]
  },
  {
   "cell_type": "code",
   "execution_count": 63,
   "metadata": {},
   "outputs": [],
   "source": [
    "# git_dataset[git_dataset['Is_Valid'] == 1]['Title']"
   ]
  },
  {
   "cell_type": "code",
   "execution_count": 64,
   "metadata": {},
   "outputs": [],
   "source": [
    "# git_dataset[git_dataset['Is_Valid'] == 1].to_csv('../artifacts/validated_git_data.csv', index=False)"
   ]
  }
 ],
 "metadata": {
  "kernelspec": {
   "display_name": "Python 3",
   "language": "python",
   "name": "python3"
  },
  "language_info": {
   "codemirror_mode": {
    "name": "ipython",
    "version": 3
   },
   "file_extension": ".py",
   "mimetype": "text/x-python",
   "name": "python",
   "nbconvert_exporter": "python",
   "pygments_lexer": "ipython3",
   "version": "3.10.11"
  },
  "orig_nbformat": 4
 },
 "nbformat": 4,
 "nbformat_minor": 2
}
