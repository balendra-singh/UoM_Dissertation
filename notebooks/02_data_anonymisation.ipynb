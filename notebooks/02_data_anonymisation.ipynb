{
  "cells": [
    {
      "cell_type": "code",
      "execution_count": 10,
      "metadata": {
        "colab": {
          "base_uri": "https://localhost:8080/"
        },
        "id": "IbhqBz0-ZXKv",
        "outputId": "bc7fb0d4-8c0c-44f5-f673-4afdc99ae310"
      },
      "outputs": [
        {
          "name": "stdout",
          "output_type": "stream",
          "text": [
            "Mounted at /content/drive\n"
          ]
        }
      ],
      "source": [
        "from google.colab import drive\n",
        "drive.mount('/content/drive',force_remount=True)\n",
        "\n",
        "drive_path = \"/content/drive/MyDrive/Dissertation/\""
      ]
    },
    {
      "cell_type": "code",
      "execution_count": 11,
      "metadata": {
        "id": "hsfYvYVzopg2"
      },
      "outputs": [],
      "source": [
        "import pandas as pd\n",
        "\n",
        "df = pd.read_csv(drive_path + 'raw.csv')"
      ]
    },
    {
      "cell_type": "code",
      "execution_count": 12,
      "metadata": {
        "colab": {
          "base_uri": "https://localhost:8080/"
        },
        "id": "YEbQ1CXR-2M1",
        "outputId": "9186009c-3c7a-4e37-ba0c-4f9a325fa3a4"
      },
      "outputs": [
        {
          "name": "stdout",
          "output_type": "stream",
          "text": [
            "\u001b[38;5;2m✔ Download and installation successful\u001b[0m\n",
            "You can now load the package via spacy.load('en_core_web_lg')\n"
          ]
        }
      ],
      "source": [
        "import spacy.cli\n",
        "import spacy\n",
        "\n",
        "spacy.cli.download(\"en_core_web_lg\")"
      ]
    },
    {
      "cell_type": "code",
      "execution_count": 13,
      "metadata": {
        "id": "lsIIAW04AQno"
      },
      "outputs": [],
      "source": [
        "nlp = spacy.load(\"en_core_web_lg\")"
      ]
    },
    {
      "cell_type": "code",
      "execution_count": 14,
      "metadata": {
        "colab": {
          "base_uri": "https://localhost:8080/"
        },
        "id": "aSq-_PS3kUmR",
        "outputId": "2b17d35f-64b9-45cc-d75d-695f3332b3f9"
      },
      "outputs": [
        {
          "data": {
            "text/plain": [
              "0       As an app developer aiming for low-resource en...\n",
              "1       As a community member, I want to create a ORG2...\n",
              "2       As a existing Solid user, I would like to use ...\n",
              "3       As a ORG3, I would like it to be easy for my u...\n",
              "4       As a ORG3, I would like to easily register new...\n",
              "                              ...                        \n",
              "2081    As a ORG176 employee, I want to be able to acc...\n",
              "2082    As a ORG176 employee, I want the system to sta...\n",
              "2083    As a ORG176 employee, I want a platform that c...\n",
              "2084    As a ORG176 employee, I want the software to b...\n",
              "2085    As a ORG176 employee, I want to be able to tak...\n",
              "Name: text, Length: 2086, dtype: object"
            ]
          },
          "execution_count": 14,
          "metadata": {},
          "output_type": "execute_result"
        }
      ],
      "source": [
        "import pandas as pd\n",
        "import re\n",
        "\n",
        "# Global dictionaries to ensure consistency across the entire dataset\n",
        "entity_mapping = {}\n",
        "entity_counter = {\"PERSON\": 0, \"ORG\": 0, \"LOC\": 0, \"EMAIL\": 0, \"PHONE\": 0}\n",
        "\n",
        "def anonymize_story(story):\n",
        "    global entity_mapping, entity_counter\n",
        "    doc = nlp(story)\n",
        "    anonymized_story = story\n",
        "\n",
        "    # Anonymize email addresses\n",
        "    for match in re.finditer(r\"[a-zA-Z0-9._%+-]+@[a-zA-Z0-9.-]+\\.[a-zA-Z]{2,}\", anonymized_story):\n",
        "        email = match.group()\n",
        "        if email not in entity_mapping:\n",
        "            entity_counter[\"EMAIL\"] += 1\n",
        "            entity_mapping[email] = f\"EMAIL{entity_counter['EMAIL']}\"\n",
        "        anonymized_story = anonymized_story.replace(email, entity_mapping[email])\n",
        "\n",
        "    # Anonymize phone numbers\n",
        "    for match in re.finditer(r\"\\(?\\d{3}\\)?[-.\\s]?\\d{3}[-.\\s]?\\d{4}\", anonymized_story):\n",
        "        phone = match.group()\n",
        "        if phone not in entity_mapping:\n",
        "            entity_counter[\"PHONE\"] += 1\n",
        "            entity_mapping[phone] = f\"PHONE{entity_counter['PHONE']}\"\n",
        "        anonymized_story = anonymized_story.replace(phone, entity_mapping[phone])\n",
        "\n",
        "    for ent in doc.ents:\n",
        "        # Check if the entity label is not in the dictionary and add it if missing\n",
        "        if ent.label_ not in entity_counter:\n",
        "            entity_counter[ent.label_] = 0\n",
        "\n",
        "\n",
        "        if ent.text not in entity_mapping:\n",
        "            entity_counter[ent.label_] += 1\n",
        "            entity_mapping[ent.text] = f\"{ent.label_}{entity_counter[ent.label_]}\"\n",
        "        anonymized_story = anonymized_story.replace(ent.text, entity_mapping[ent.text])\n",
        "\n",
        "    return anonymized_story\n",
        "\n",
        "# Apply the anonymization function to each row of user stories data and replace the un-anonymised data\n",
        "df['text'] = df['text'].apply(anonymize_story)\n",
        "\n",
        "df['text']"
      ]
    },
    {
      "cell_type": "code",
      "execution_count": 15,
      "metadata": {
        "colab": {
          "base_uri": "https://localhost:8080/"
        },
        "id": "rrmWKW030dki",
        "outputId": "73a36cc2-c7db-4675-d4da-f01d07d23213"
      },
      "outputs": [
        {
          "data": {
            "text/plain": [
              "317"
            ]
          },
          "execution_count": 15,
          "metadata": {},
          "output_type": "execute_result"
        }
      ],
      "source": [
        "len(entity_mapping)"
      ]
    },
    {
      "cell_type": "code",
      "execution_count": 16,
      "metadata": {
        "colab": {
          "base_uri": "https://localhost:8080/"
        },
        "id": "nA6B3y3xbzpp",
        "outputId": "8f87e863-ccc2-4d8e-f6d4-2bb2e576def1"
      },
      "outputs": [
        {
          "data": {
            "text/plain": [
              "dict_keys(['Solid', 'Pod/RDF', 'Solid Identity Provider', 'Pod Providers', 'IdP', 'one', 'compus', 'webid', 'WebID', 'RDF', 'Turtle', 'HR', 'Project', '\\ufeffAs', 'Data', '12-19-2017', 'Broker', 'UX', '2', 'DABS', 'FABS', 'Homepage', '3', 'publishStatus', 'DevOps', 'Validate', 'FPDS', 'DB-2213', 'GTAS', 'USAspending', 'Agency', 'Tech Thursday', 'FundingAgencyCode after FABS', 'FSRS', 'daily', 'PPoPCongressionalDistrict', 'zero', 'Financial Assistance', 'CFDA', 'SAM', '00FORGN', 'P&P', 'DAIMS', 'FREC', 'NASA', 'DUNS', 'ActionTypes', 'the Atom Feed', 'the SAMPLE FILE', 'PPoPZIP', '4', 'two', 'IG', '2007', 'Excel', 'Search for Information', 'County', 'ProspectiveApplicant', 'PreApplication Assistance', 'Customer', 'first', 'Submit Application', 'the Draft Proffers', 'Final Action', 'the Comprehensive Plan', 'the Zoning Ordinance', 'Applicant', 'Develop a Staff Report', 'Capture a Hearing Decision', 'Process the Appeals', 'the Plan Review Staff', 'Review Plans', 'Review the Code Modifications', 'Complete Building Development Project', 'a County', 'Conduct Inspections', 'Geospatial', 'Technical Staff', 'the GIS Property Management', 'Parcel Pin', 'the Notice Of Violation', 'Google Maps', 'the hours', 'my off days', 'their opening hours', 'week', 'Data Publishing User', 'OpenSpending', 'JSON', 'Fiscal Data Package', 'Primary Color', 'Dataset Publisher', 'Platform Administration', 'HASC', 'more than one', 'OpenSpending Community', 'Python Client', 'Open Spending', 'treemap', 'the most recent year', 'Platform', 'Viewer', 'Node', 'Julia', 'seconds', 'the Data Package', 'Data Package', 'SPSS', 'a Data Package', 'Data Packages', 'Core Data Packages', 'Python', 'Clojure', 'Machine Learning', 'ML', 'Elasticsearch', 'Mongo', 'Dspace', 'HDF5', 'Researcher', 'Microsoft Power', 'Zenodo', 'GitHub', 'Open Refine', 'Data Packages to CKAN', 'ResearcherDeveloper', 'MS', 'NetCDF', 'https://data.mendeley.com/', 'third', 'Civic Tech Activist', 'CKAN', 'DeveloperPublisher', 'OpenRefine', 'a Tabular Data Package', 'DOI', 'UHOPE', 'the Electronic Medical Record Database', 'the National Database for Medical Records', '30 days', 'the GDPR regulations', 'each day', 'the day', '24 hours', '7 days per week', 'the Hospital Management System', '7600', 'CSM', 'CSPO', 'CSP', 'RSS', 'Certification Courses', 'the Scrum Alliance', 'Scrum Gatherings', 'Scrum', 'another 30 days', 'seven day', 'Certified Scrum Product Owners', 'Certified Scrum Masters', 'annual', 'Practitioners and Trainers', 'EMR', 'GDPR', 'NSF', 'FISMA', 'CMS', 'WIG', 'second', 'DIS', 'ATO', 'MVP', 'the next few months', '1', 'three', 'Github', 'VisualDesigner', 'IFA Administration', 'IFA', '50 000', 'at least four days', 'the IFA Administration', 'User Interfaces', 'previous years', 'two hours', '200+', 'next year', 'the previous years', 'weekly', 'monthly', 'Lab Specialist', '0, 1/2', '5', '8', '16', '32', 'up to', '15', 'two-minute', '1.5', 'Safari 2', 'Unicode', 'Consumer', 'DataPackage', 'SQLite', 'Web Developer', 'at least 50.000', 'Fedora 4', 'DPC', 'Symplectic Elements', 'DDR', 'Fedora Connector', 'Emory', 'Fedora', 'Hydra', 'ProQuest', 'ETD', 'OAI-PMH', 'SLA', 'Linked Data', 'EZID', 'the Disaster Recovery Plan', 'Data Management Plans', 'Neurohub', '10.04', 'LTS', 'Wormbase', 'Christopher James', 'NeuroHub', \"the Neurohub Nodes'\", 'Calendar', 'Google', 'Greek', 'Mendeley', 'VRE', 'OlderPerson', 'ALFRED', 'the whole day', 'night', 'SocialCaregiver', 'Groups', 'the week', 'Electronic Medical Records', 'EMRs', 'anonymoususer', '350', 'Drupalists', 'Drupal Planet', 'future years', 'DMP', 'an Ethics Committee', 'CRIS', 'Research Centre', 'Postgraduate Convenor', 'Archivist', 'EAD', 'Archon', 'LDAP', 'ASpace', 'Accessions', 'Extents', 'Accessions and/or Resources', 'EAC-CPF', 'Advanced Data Entry', 'Notes', \"the Archivists' Toolkit\", 'Collection Management', 'Digital', 'Rights Management', 'Repository', 'Resource', 'Container', 'University', 'Pure', 'Virtual Research Environments', 'Opus', 'University of Bath', 'Primo', 'Bath', 'Bath Data Archive', 'Research Information', 'HCP', 'SWORD2', 'DAMS', 'cartographics', 'NN', 'RAC', 'Active Directory', 'Cornell', 'Lotus Works', 'Shibboleth', 'Symplectic Elements and Activity Insight', 'CCE Educators', 'CC', 'NYS', 'OAI', 'USDA', 'FYI', 'Zooniverse', 'Galaxy Zoo', 'Snapshot Serengeti', 'Plankton Portal', 'Worm Watch Lab', 'Zoonibot', 'portalsin', 'myteam', 'annually', 'IFAmanagement', 'up to 50,000', '1 second', '9', '10', 'at least 50 000', 'UMD', 'Wonderland', 'crowdedness', '2 minutes', 'specific days'])"
            ]
          },
          "execution_count": 16,
          "metadata": {},
          "output_type": "execute_result"
        }
      ],
      "source": [
        "entity_mapping.keys()"
      ]
    },
    {
      "cell_type": "code",
      "execution_count": 17,
      "metadata": {
        "colab": {
          "base_uri": "https://localhost:8080/"
        },
        "id": "EcVJzMo_0qoL",
        "outputId": "16b36b04-e74f-4e2c-c94a-a5d9a724e311"
      },
      "outputs": [
        {
          "data": {
            "text/plain": [
              "{'PERSON': 16,\n",
              " 'ORG': 177,\n",
              " 'LOC': 2,\n",
              " 'EMAIL': 0,\n",
              " 'PHONE': 0,\n",
              " 'CARDINAL': 21,\n",
              " 'DATE': 31,\n",
              " 'PRODUCT': 19,\n",
              " 'WORK_OF_ART': 9,\n",
              " 'FAC': 5,\n",
              " 'GPE': 13,\n",
              " 'ORDINAL': 3,\n",
              " 'LAW': 6,\n",
              " 'TIME': 9,\n",
              " 'NORP': 3,\n",
              " 'MONEY': 2,\n",
              " 'QUANTITY': 1}"
            ]
          },
          "execution_count": 17,
          "metadata": {},
          "output_type": "execute_result"
        }
      ],
      "source": [
        "entity_counter"
      ]
    },
    {
      "cell_type": "code",
      "execution_count": 18,
      "metadata": {
        "id": "z7WAZwVW0kfm"
      },
      "outputs": [],
      "source": [
        "df.to_csv(drive_path + 'anonymised.csv')"
      ]
    }
  ],
  "metadata": {
    "accelerator": "GPU",
    "colab": {
      "gpuType": "T4",
      "machine_shape": "hm",
      "provenance": []
    },
    "kernelspec": {
      "display_name": "Python 3",
      "name": "python3"
    },
    "language_info": {
      "name": "python"
    }
  },
  "nbformat": 4,
  "nbformat_minor": 0
}
