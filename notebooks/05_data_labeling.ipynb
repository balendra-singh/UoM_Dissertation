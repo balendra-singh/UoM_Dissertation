{
  "cells": [
    {
      "cell_type": "markdown",
      "metadata": {
        "id": "-ZIPLIfjdnwO"
      },
      "source": [
        "## Step-4 - Data Labeling"
      ]
    },
    {
      "cell_type": "code",
      "execution_count": 1,
      "metadata": {
        "colab": {
          "base_uri": "https://localhost:8080/"
        },
        "id": "mhyEYS0Y4Tdo",
        "outputId": "4adb2957-6a5d-4e51-9bb1-957f97930ea7"
      },
      "outputs": [
        {
          "name": "stdout",
          "output_type": "stream",
          "text": [
            "Mounted at /content/drive\n"
          ]
        }
      ],
      "source": [
        "from google.colab import drive\n",
        "drive.mount('/content/drive',force_remount=True)\n",
        "\n",
        "drive_path = \"/content/drive/MyDrive/Dissertation/\""
      ]
    },
    {
      "cell_type": "code",
      "execution_count": 2,
      "metadata": {
        "colab": {
          "base_uri": "https://localhost:8080/"
        },
        "id": "s-rppW5eKVWB",
        "outputId": "7bf4ba46-da95-4936-84c3-4cefb92079e9"
      },
      "outputs": [
        {
          "name": "stdout",
          "output_type": "stream",
          "text": [
            "Requirement already satisfied: transformers in /usr/local/lib/python3.10/dist-packages (4.31.0)\n",
            "Requirement already satisfied: filelock in /usr/local/lib/python3.10/dist-packages (from transformers) (3.12.2)\n",
            "Requirement already satisfied: huggingface-hub<1.0,>=0.14.1 in /usr/local/lib/python3.10/dist-packages (from transformers) (0.16.4)\n",
            "Requirement already satisfied: numpy>=1.17 in /usr/local/lib/python3.10/dist-packages (from transformers) (1.23.5)\n",
            "Requirement already satisfied: packaging>=20.0 in /usr/local/lib/python3.10/dist-packages (from transformers) (23.1)\n",
            "Requirement already satisfied: pyyaml>=5.1 in /usr/local/lib/python3.10/dist-packages (from transformers) (6.0.1)\n",
            "Requirement already satisfied: regex!=2019.12.17 in /usr/local/lib/python3.10/dist-packages (from transformers) (2023.6.3)\n",
            "Requirement already satisfied: requests in /usr/local/lib/python3.10/dist-packages (from transformers) (2.31.0)\n",
            "Requirement already satisfied: tokenizers!=0.11.3,<0.14,>=0.11.1 in /usr/local/lib/python3.10/dist-packages (from transformers) (0.13.3)\n",
            "Requirement already satisfied: safetensors>=0.3.1 in /usr/local/lib/python3.10/dist-packages (from transformers) (0.3.2)\n",
            "Requirement already satisfied: tqdm>=4.27 in /usr/local/lib/python3.10/dist-packages (from transformers) (4.66.0)\n",
            "Requirement already satisfied: fsspec in /usr/local/lib/python3.10/dist-packages (from huggingface-hub<1.0,>=0.14.1->transformers) (2023.6.0)\n",
            "Requirement already satisfied: typing-extensions>=3.7.4.3 in /usr/local/lib/python3.10/dist-packages (from huggingface-hub<1.0,>=0.14.1->transformers) (4.7.1)\n",
            "Requirement already satisfied: charset-normalizer<4,>=2 in /usr/local/lib/python3.10/dist-packages (from requests->transformers) (3.2.0)\n",
            "Requirement already satisfied: idna<4,>=2.5 in /usr/local/lib/python3.10/dist-packages (from requests->transformers) (3.4)\n",
            "Requirement already satisfied: urllib3<3,>=1.21.1 in /usr/local/lib/python3.10/dist-packages (from requests->transformers) (2.0.4)\n",
            "Requirement already satisfied: certifi>=2017.4.17 in /usr/local/lib/python3.10/dist-packages (from requests->transformers) (2023.7.22)\n"
          ]
        }
      ],
      "source": [
        "!pip install transformers"
      ]
    },
    {
      "cell_type": "code",
      "execution_count": 3,
      "metadata": {
        "colab": {
          "base_uri": "https://localhost:8080/"
        },
        "id": "zYwIa78-6X6J",
        "outputId": "6ba52744-e28d-4561-d80a-61958ffdae5b"
      },
      "outputs": [
        {
          "name": "stdout",
          "output_type": "stream",
          "text": [
            "Using GPU\n"
          ]
        }
      ],
      "source": [
        "import pandas as pd\n",
        "import torch\n",
        "from transformers import pipeline, AutoModelForSequenceClassification, AutoTokenizer\n",
        "from sklearn.metrics import classification_report\n",
        "\n",
        "# Check for GPU availability\n",
        "device = \"cuda\" if torch.cuda.is_available() else \"cpu\"\n",
        "if device == \"cuda\":\n",
        "    print(\"Using GPU\")\n",
        "else:\n",
        "    print(\"Using CPU\")\n"
      ]
    },
    {
      "cell_type": "code",
      "execution_count": 4,
      "metadata": {
        "id": "6ibVv0qNV31_"
      },
      "outputs": [],
      "source": [
        "fine_tuned_model_path = drive_path + \"fine_tuned_sileod_deberta-v3-large-tasksource-nli/\""
      ]
    },
    {
      "cell_type": "markdown",
      "metadata": {},
      "source": [
        "### Testing the fine-tuned model on test dataset"
      ]
    },
    {
      "cell_type": "code",
      "execution_count": 5,
      "metadata": {
        "colab": {
          "base_uri": "https://localhost:8080/"
        },
        "id": "iLjuxQkl_ViL",
        "outputId": "9bf71f27-ec89-432e-8c07-7c28c0d085f4"
      },
      "outputs": [
        {
          "name": "stderr",
          "output_type": "stream",
          "text": [
            "Asking to truncate to max_length but no maximum length is provided and the model has no predefined maximum length. Default to no truncation.\n"
          ]
        },
        {
          "name": "stdout",
          "output_type": "stream",
          "text": [
            "                precision    recall  f1-score   support\n",
            "\n",
            " Accessibility       0.77      0.91      0.83        11\n",
            "   Aggregation       0.92      1.00      0.96        11\n",
            "Authentication       0.90      0.90      0.90        10\n",
            "          Chat       1.00      0.83      0.91        18\n",
            "   Consistency       1.00      1.00      1.00        11\n",
            "      Contacts       1.00      1.00      1.00        16\n",
            "\n",
            "      accuracy                           0.94        77\n",
            "     macro avg       0.93      0.94      0.93        77\n",
            "  weighted avg       0.94      0.94      0.94        77\n",
            "\n"
          ]
        }
      ],
      "source": [
        "test_df = pd.read_csv(drive_path + \"test.csv\")\n",
        "\n",
        "\n",
        "# Create the pipeline and move to GPU if available\n",
        "classifier = pipeline(\"zero-shot-classification\",\n",
        "                      model= fine_tuned_model_path,\n",
        "                      device=0 if device == \"cuda\" else -1)  # device=0 means use the first GPU\n",
        "\n",
        "\n",
        "# Define the candidate labels\n",
        "candidate_labels = [\"Authentication\", \"Accessibility\", \"Consistency\", \"Chat\", \"Contacts\", \"Aggregation\"]\n",
        "\n",
        "def classify_user_stories_batch(texts):\n",
        "    outputs = classifier(texts, candidate_labels, multi_label=False)\n",
        "    labels = []\n",
        "    scores = []\n",
        "\n",
        "    for output in outputs:\n",
        "        label_scores = output['scores']\n",
        "        label_names = output['labels']\n",
        "\n",
        "        # sort the scores in descending order and get the indices\n",
        "        sorted_indices = sorted(range(len(label_scores)), key=lambda k: -label_scores[k])\n",
        "\n",
        "        # get the labels for the highest score\n",
        "        labels.append(label_names[sorted_indices[0]])\n",
        "        scores.append(label_scores[sorted_indices[0]])\n",
        "\n",
        "    return labels, scores\n",
        "\n",
        "# Batch size adjusted based on memory availability\n",
        "BATCH_SIZE = 256\n",
        "labels_list = []\n",
        "scores_list = []\n",
        "\n",
        "for i in range(0, len(test_df), BATCH_SIZE):\n",
        "    batch_texts = test_df['text'].iloc[i:i+BATCH_SIZE].tolist()\n",
        "    batch_labels, batch_scores = classify_user_stories_batch(batch_texts)\n",
        "    labels_list.extend(batch_labels)\n",
        "    scores_list.extend(batch_scores)\n",
        "\n",
        "test_df['zero_shot_label'] = labels_list\n",
        "test_df['zero_shot_score'] = scores_list\n",
        "\n",
        "report = classification_report(test_df['label'], test_df['zero_shot_label'])\n",
        "print(report)"
      ]
    },
    {
      "cell_type": "markdown",
      "metadata": {
        "id": "fvwfECvpAHZk"
      },
      "source": [
        "## Applying Saved Fine-Tuned Model on Unlabelled Dataset"
      ]
    },
    {
      "cell_type": "code",
      "execution_count": 6,
      "metadata": {
        "colab": {
          "base_uri": "https://localhost:8080/"
        },
        "id": "EpSxMu73TR_i",
        "outputId": "d226323f-a02e-428d-bac0-23798f416420"
      },
      "outputs": [
        {
          "name": "stderr",
          "output_type": "stream",
          "text": [
            "Asking to truncate to max_length but no maximum length is provided and the model has no predefined maximum length. Default to no truncation.\n"
          ]
        },
        {
          "data": {
            "text/plain": [
              "Accessibility     701\n",
              "Consistency       537\n",
              "Aggregation       393\n",
              "Authentication    221\n",
              "Contacts          133\n",
              "Chat               25\n",
              "Name: label, dtype: int64"
            ]
          },
          "execution_count": 6,
          "metadata": {},
          "output_type": "execute_result"
        }
      ],
      "source": [
        "unlabeled_df = pd.read_csv(drive_path + \"unlabeled.csv\")\n",
        "\n",
        "\n",
        "# Create the pipeline and move to GPU if available\n",
        "classifier = pipeline(\"zero-shot-classification\",\n",
        "                      model= fine_tuned_model_path,\n",
        "                      device=0 if device == \"cuda\" else -1)  # device=0 means use the first GPU\n",
        "\n",
        "\n",
        "# Define the candidate labels\n",
        "candidate_labels = [\"Authentication\", \"Accessibility\", \"Consistency\", \"Chat\", \"Contacts\", \"Aggregation\"]\n",
        "\n",
        "def classify_user_stories_batch(texts):\n",
        "    outputs = classifier(texts, candidate_labels, multi_label=False)\n",
        "    labels = []\n",
        "    scores = []\n",
        "\n",
        "    for output in outputs:\n",
        "        label_scores = output['scores']\n",
        "        label_names = output['labels']\n",
        "\n",
        "        # sort the scores in descending order and get the indices\n",
        "        sorted_indices = sorted(range(len(label_scores)), key=lambda k: -label_scores[k])\n",
        "\n",
        "        # get the labels for the highest score\n",
        "        labels.append(label_names[sorted_indices[0]])\n",
        "        scores.append(label_scores[sorted_indices[0]])\n",
        "\n",
        "    return labels, scores\n",
        "\n",
        "# Batch size can be adjusted based on memory availability\n",
        "BATCH_SIZE = 256\n",
        "labels_list = []\n",
        "scores_list = []\n",
        "\n",
        "for i in range(0, len(unlabeled_df), BATCH_SIZE):\n",
        "    batch_texts = unlabeled_df['text'].iloc[i:i+BATCH_SIZE].tolist()\n",
        "    batch_labels, batch_scores = classify_user_stories_batch(batch_texts)\n",
        "    labels_list.extend(batch_labels)\n",
        "    scores_list.extend(batch_scores)\n",
        "\n",
        "unlabeled_df['label'] = labels_list\n",
        "#unlabeled_df['zero_shot_score'] = scores_list\n",
        "\n",
        "unlabeled_df.to_csv(drive_path + \"sileod_labelled.csv\", index=False)\n",
        "\n",
        "unlabeled_df['label'].value_counts()"
      ]
    },
    {
      "cell_type": "markdown",
      "metadata": {
        "id": "J0Vs6mDFAY-O"
      },
      "source": [
        "## Concatenating test and the labelled dataset by the model"
      ]
    },
    {
      "cell_type": "code",
      "execution_count": 7,
      "metadata": {
        "colab": {
          "base_uri": "https://localhost:8080/",
          "height": 423
        },
        "id": "99LE9kQiAWhz",
        "outputId": "080ecdda-e97a-4aa4-c82f-969ec40660ff"
      },
      "outputs": [
        {
          "data": {
            "text/html": [
              "\n",
              "\n",
              "  <div id=\"df-f3ef27eb-1553-4dc2-ae35-e8050ad2b2e0\">\n",
              "    <div class=\"colab-df-container\">\n",
              "      <div>\n",
              "<style scoped>\n",
              "    .dataframe tbody tr th:only-of-type {\n",
              "        vertical-align: middle;\n",
              "    }\n",
              "\n",
              "    .dataframe tbody tr th {\n",
              "        vertical-align: top;\n",
              "    }\n",
              "\n",
              "    .dataframe thead th {\n",
              "        text-align: right;\n",
              "    }\n",
              "</style>\n",
              "<table border=\"1\" class=\"dataframe\">\n",
              "  <thead>\n",
              "    <tr style=\"text-align: right;\">\n",
              "      <th></th>\n",
              "      <th>text</th>\n",
              "      <th>label</th>\n",
              "      <th>text_length</th>\n",
              "    </tr>\n",
              "  </thead>\n",
              "  <tbody>\n",
              "    <tr>\n",
              "      <th>0</th>\n",
              "      <td>As an app developer aiming for low-resource en...</td>\n",
              "      <td>Chat</td>\n",
              "      <td>103</td>\n",
              "    </tr>\n",
              "    <tr>\n",
              "      <th>1</th>\n",
              "      <td>As a community member, I want to create a Pod/...</td>\n",
              "      <td>Chat</td>\n",
              "      <td>105</td>\n",
              "    </tr>\n",
              "    <tr>\n",
              "      <th>2</th>\n",
              "      <td>As a existing Solid user, I would like to use ...</td>\n",
              "      <td>Authentication</td>\n",
              "      <td>174</td>\n",
              "    </tr>\n",
              "    <tr>\n",
              "      <th>3</th>\n",
              "      <td>As a Solid Identity Provider, I would like it ...</td>\n",
              "      <td>Authentication</td>\n",
              "      <td>142</td>\n",
              "    </tr>\n",
              "    <tr>\n",
              "      <th>4</th>\n",
              "      <td>As a Solid Identity Provider, I would like to ...</td>\n",
              "      <td>Authentication</td>\n",
              "      <td>126</td>\n",
              "    </tr>\n",
              "    <tr>\n",
              "      <th>...</th>\n",
              "      <td>...</td>\n",
              "      <td>...</td>\n",
              "      <td>...</td>\n",
              "    </tr>\n",
              "    <tr>\n",
              "      <th>2005</th>\n",
              "      <td>As a UMD employee, I want to be able to access...</td>\n",
              "      <td>Accessibility</td>\n",
              "      <td>98</td>\n",
              "    </tr>\n",
              "    <tr>\n",
              "      <th>2006</th>\n",
              "      <td>As a UMD employee, I want the system to start ...</td>\n",
              "      <td>Accessibility</td>\n",
              "      <td>118</td>\n",
              "    </tr>\n",
              "    <tr>\n",
              "      <th>2007</th>\n",
              "      <td>As a UMD employee, I want a platform that can ...</td>\n",
              "      <td>Accessibility</td>\n",
              "      <td>138</td>\n",
              "    </tr>\n",
              "    <tr>\n",
              "      <th>2008</th>\n",
              "      <td>As a UMD employee, I want the software to be a...</td>\n",
              "      <td>Accessibility</td>\n",
              "      <td>122</td>\n",
              "    </tr>\n",
              "    <tr>\n",
              "      <th>2009</th>\n",
              "      <td>As a UMD employee, I want to be able to take s...</td>\n",
              "      <td>Consistency</td>\n",
              "      <td>152</td>\n",
              "    </tr>\n",
              "  </tbody>\n",
              "</table>\n",
              "<p>2087 rows × 3 columns</p>\n",
              "</div>\n",
              "      <button class=\"colab-df-convert\" onclick=\"convertToInteractive('df-f3ef27eb-1553-4dc2-ae35-e8050ad2b2e0')\"\n",
              "              title=\"Convert this dataframe to an interactive table.\"\n",
              "              style=\"display:none;\">\n",
              "\n",
              "  <svg xmlns=\"http://www.w3.org/2000/svg\" height=\"24px\"viewBox=\"0 0 24 24\"\n",
              "       width=\"24px\">\n",
              "    <path d=\"M0 0h24v24H0V0z\" fill=\"none\"/>\n",
              "    <path d=\"M18.56 5.44l.94 2.06.94-2.06 2.06-.94-2.06-.94-.94-2.06-.94 2.06-2.06.94zm-11 1L8.5 8.5l.94-2.06 2.06-.94-2.06-.94L8.5 2.5l-.94 2.06-2.06.94zm10 10l.94 2.06.94-2.06 2.06-.94-2.06-.94-.94-2.06-.94 2.06-2.06.94z\"/><path d=\"M17.41 7.96l-1.37-1.37c-.4-.4-.92-.59-1.43-.59-.52 0-1.04.2-1.43.59L10.3 9.45l-7.72 7.72c-.78.78-.78 2.05 0 2.83L4 21.41c.39.39.9.59 1.41.59.51 0 1.02-.2 1.41-.59l7.78-7.78 2.81-2.81c.8-.78.8-2.07 0-2.86zM5.41 20L4 18.59l7.72-7.72 1.47 1.35L5.41 20z\"/>\n",
              "  </svg>\n",
              "      </button>\n",
              "\n",
              "\n",
              "\n",
              "    <div id=\"df-a6b167a9-8046-4022-b4df-f9eed5eaad5d\">\n",
              "      <button class=\"colab-df-quickchart\" onclick=\"quickchart('df-a6b167a9-8046-4022-b4df-f9eed5eaad5d')\"\n",
              "              title=\"Suggest charts.\"\n",
              "              style=\"display:none;\">\n",
              "\n",
              "<svg xmlns=\"http://www.w3.org/2000/svg\" height=\"24px\"viewBox=\"0 0 24 24\"\n",
              "     width=\"24px\">\n",
              "    <g>\n",
              "        <path d=\"M19 3H5c-1.1 0-2 .9-2 2v14c0 1.1.9 2 2 2h14c1.1 0 2-.9 2-2V5c0-1.1-.9-2-2-2zM9 17H7v-7h2v7zm4 0h-2V7h2v10zm4 0h-2v-4h2v4z\"/>\n",
              "    </g>\n",
              "</svg>\n",
              "      </button>\n",
              "    </div>\n",
              "\n",
              "<style>\n",
              "  .colab-df-quickchart {\n",
              "    background-color: #E8F0FE;\n",
              "    border: none;\n",
              "    border-radius: 50%;\n",
              "    cursor: pointer;\n",
              "    display: none;\n",
              "    fill: #1967D2;\n",
              "    height: 32px;\n",
              "    padding: 0 0 0 0;\n",
              "    width: 32px;\n",
              "  }\n",
              "\n",
              "  .colab-df-quickchart:hover {\n",
              "    background-color: #E2EBFA;\n",
              "    box-shadow: 0px 1px 2px rgba(60, 64, 67, 0.3), 0px 1px 3px 1px rgba(60, 64, 67, 0.15);\n",
              "    fill: #174EA6;\n",
              "  }\n",
              "\n",
              "  [theme=dark] .colab-df-quickchart {\n",
              "    background-color: #3B4455;\n",
              "    fill: #D2E3FC;\n",
              "  }\n",
              "\n",
              "  [theme=dark] .colab-df-quickchart:hover {\n",
              "    background-color: #434B5C;\n",
              "    box-shadow: 0px 1px 3px 1px rgba(0, 0, 0, 0.15);\n",
              "    filter: drop-shadow(0px 1px 2px rgba(0, 0, 0, 0.3));\n",
              "    fill: #FFFFFF;\n",
              "  }\n",
              "</style>\n",
              "\n",
              "    <script>\n",
              "      async function quickchart(key) {\n",
              "        const containerElement = document.querySelector('#' + key);\n",
              "        const charts = await google.colab.kernel.invokeFunction(\n",
              "            'suggestCharts', [key], {});\n",
              "      }\n",
              "    </script>\n",
              "\n",
              "      <script>\n",
              "\n",
              "function displayQuickchartButton(domScope) {\n",
              "  let quickchartButtonEl =\n",
              "    domScope.querySelector('#df-a6b167a9-8046-4022-b4df-f9eed5eaad5d button.colab-df-quickchart');\n",
              "  quickchartButtonEl.style.display =\n",
              "    google.colab.kernel.accessAllowed ? 'block' : 'none';\n",
              "}\n",
              "\n",
              "        displayQuickchartButton(document);\n",
              "      </script>\n",
              "      <style>\n",
              "    .colab-df-container {\n",
              "      display:flex;\n",
              "      flex-wrap:wrap;\n",
              "      gap: 12px;\n",
              "    }\n",
              "\n",
              "    .colab-df-convert {\n",
              "      background-color: #E8F0FE;\n",
              "      border: none;\n",
              "      border-radius: 50%;\n",
              "      cursor: pointer;\n",
              "      display: none;\n",
              "      fill: #1967D2;\n",
              "      height: 32px;\n",
              "      padding: 0 0 0 0;\n",
              "      width: 32px;\n",
              "    }\n",
              "\n",
              "    .colab-df-convert:hover {\n",
              "      background-color: #E2EBFA;\n",
              "      box-shadow: 0px 1px 2px rgba(60, 64, 67, 0.3), 0px 1px 3px 1px rgba(60, 64, 67, 0.15);\n",
              "      fill: #174EA6;\n",
              "    }\n",
              "\n",
              "    [theme=dark] .colab-df-convert {\n",
              "      background-color: #3B4455;\n",
              "      fill: #D2E3FC;\n",
              "    }\n",
              "\n",
              "    [theme=dark] .colab-df-convert:hover {\n",
              "      background-color: #434B5C;\n",
              "      box-shadow: 0px 1px 3px 1px rgba(0, 0, 0, 0.15);\n",
              "      filter: drop-shadow(0px 1px 2px rgba(0, 0, 0, 0.3));\n",
              "      fill: #FFFFFF;\n",
              "    }\n",
              "  </style>\n",
              "\n",
              "      <script>\n",
              "        const buttonEl =\n",
              "          document.querySelector('#df-f3ef27eb-1553-4dc2-ae35-e8050ad2b2e0 button.colab-df-convert');\n",
              "        buttonEl.style.display =\n",
              "          google.colab.kernel.accessAllowed ? 'block' : 'none';\n",
              "\n",
              "        async function convertToInteractive(key) {\n",
              "          const element = document.querySelector('#df-f3ef27eb-1553-4dc2-ae35-e8050ad2b2e0');\n",
              "          const dataTable =\n",
              "            await google.colab.kernel.invokeFunction('convertToInteractive',\n",
              "                                                     [key], {});\n",
              "          if (!dataTable) return;\n",
              "\n",
              "          const docLinkHtml = 'Like what you see? Visit the ' +\n",
              "            '<a target=\"_blank\" href=https://colab.research.google.com/notebooks/data_table.ipynb>data table notebook</a>'\n",
              "            + ' to learn more about interactive tables.';\n",
              "          element.innerHTML = '';\n",
              "          dataTable['output_type'] = 'display_data';\n",
              "          await google.colab.output.renderOutput(dataTable, element);\n",
              "          const docLink = document.createElement('div');\n",
              "          docLink.innerHTML = docLinkHtml;\n",
              "          element.appendChild(docLink);\n",
              "        }\n",
              "      </script>\n",
              "    </div>\n",
              "  </div>\n"
            ],
            "text/plain": [
              "                                                   text           label  \\\n",
              "0     As an app developer aiming for low-resource en...            Chat   \n",
              "1     As a community member, I want to create a Pod/...            Chat   \n",
              "2     As a existing Solid user, I would like to use ...  Authentication   \n",
              "3     As a Solid Identity Provider, I would like it ...  Authentication   \n",
              "4     As a Solid Identity Provider, I would like to ...  Authentication   \n",
              "...                                                 ...             ...   \n",
              "2005  As a UMD employee, I want to be able to access...   Accessibility   \n",
              "2006  As a UMD employee, I want the system to start ...   Accessibility   \n",
              "2007  As a UMD employee, I want a platform that can ...   Accessibility   \n",
              "2008  As a UMD employee, I want the software to be a...   Accessibility   \n",
              "2009  As a UMD employee, I want to be able to take s...     Consistency   \n",
              "\n",
              "      text_length  \n",
              "0             103  \n",
              "1             105  \n",
              "2             174  \n",
              "3             142  \n",
              "4             126  \n",
              "...           ...  \n",
              "2005           98  \n",
              "2006          118  \n",
              "2007          138  \n",
              "2008          122  \n",
              "2009          152  \n",
              "\n",
              "[2087 rows x 3 columns]"
            ]
          },
          "execution_count": 7,
          "metadata": {},
          "output_type": "execute_result"
        }
      ],
      "source": [
        "test_df = pd.read_csv(drive_path + \"test.csv\")\n",
        "\n",
        "user_story_df = pd.concat([test_df, unlabeled_df], axis=0)\n",
        "user_story_df"
      ]
    },
    {
      "cell_type": "code",
      "execution_count": 8,
      "metadata": {
        "id": "HcieJv11BTcz"
      },
      "outputs": [],
      "source": [
        "user_story_df.to_csv(drive_path + \"labelled_user_stories.csv\", index=False)"
      ]
    },
    {
      "cell_type": "code",
      "execution_count": 9,
      "metadata": {
        "colab": {
          "base_uri": "https://localhost:8080/"
        },
        "id": "RyHQAPzmDxnE",
        "outputId": "f130f7de-caac-41fb-9384-e80f95e534e0"
      },
      "outputs": [
        {
          "data": {
            "text/plain": [
              "Accessibility     712\n",
              "Consistency       548\n",
              "Aggregation       404\n",
              "Authentication    231\n",
              "Contacts          149\n",
              "Chat               43\n",
              "Name: label, dtype: int64"
            ]
          },
          "execution_count": 9,
          "metadata": {},
          "output_type": "execute_result"
        }
      ],
      "source": [
        "user_story_df['label'].value_counts()"
      ]
    },
    {
      "cell_type": "code",
      "execution_count": null,
      "metadata": {
        "id": "AfIWzPl4Dzit"
      },
      "outputs": [],
      "source": []
    }
  ],
  "metadata": {
    "accelerator": "GPU",
    "colab": {
      "gpuType": "T4",
      "machine_shape": "hm",
      "provenance": []
    },
    "kernelspec": {
      "display_name": "Python 3",
      "name": "python3"
    },
    "language_info": {
      "name": "python"
    }
  },
  "nbformat": 4,
  "nbformat_minor": 0
}
